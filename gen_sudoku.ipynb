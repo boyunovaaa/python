{
 "cells": [
  {
   "attachments": {},
   "cell_type": "markdown",
   "metadata": {},
   "source": [
    "Класс, который содержит инструмент для генерации поля для игры судоку в зависимости от уровня сложности.\n",
    "- Инструменты:\n",
    "  - генерация поля с уровнем сложности;\n",
    "  - печать готового поля в консоль;\n",
    "  - сохранение готового поля в файл.\n"
   ]
  },
  {
   "cell_type": "code",
   "execution_count": 16,
   "metadata": {},
   "outputs": [],
   "source": [
    "import random\n",
    "\n",
    "class Sudoku:\n",
    "    \n",
    "    \"\"\"Класс, генерирующий поле для игры судоку в зависимости от уровня сложности.\n",
    "    'easy' - лёгкий уровень,\n",
    "    'medium' - средний уровень,\n",
    "    'hard' - сложный уровень.\"\"\"\n",
    "\n",
    "    def __init__(self, level:str = 'easy') -> None:\n",
    "        self.level = level\n",
    "        self.board = [[0 for x in range(9)] for y in range(9)]\n",
    "        self.generate_board()\n",
    "\n",
    "\n",
    "    def generate_board(self) -> None:\n",
    "        \"\"\"Генерация судоку по заданному уровню\"\"\"\n",
    "\n",
    "        if self.level == 'easy':\n",
    "            filled_cells = 40\n",
    "        elif self.level == 'medium':\n",
    "            filled_cells = 30\n",
    "        elif self.level == 'hard':\n",
    "            filled_cells = 20\n",
    "        else:\n",
    "            raise Exception('Неверно введен уровень')\n",
    "\n",
    "        for i in range(filled_cells):\n",
    "            x = random.randint(0, 8)\n",
    "            y = random.randint(0, 8)\n",
    "            while self.board[x][y] != 0:\n",
    "                x = random.randint(0, 8)\n",
    "                y = random.randint(0, 8)\n",
    "    \n",
    "            possible_values = [n for n in range(1, 10) if n not in self.get_row(x) and n not in self.get_col(y) and n not in self.get_square(x, y)]\n",
    "            if possible_values:\n",
    "                value = random.choice(possible_values)\n",
    "                self.board[x][y] = value\n",
    "            else:\n",
    "                i -= 1\n",
    "                continue\n",
    "    \n",
    "\n",
    "    def get_row(self, x:int) -> list:\n",
    "        \"\"\"Метод возвращает список значений по заданной строке\"\"\"\n",
    "        return [self.board[x][y] for y in range(9)]\n",
    "    \n",
    "\n",
    "    def get_col(self, y:int) -> list:\n",
    "        \"\"\"Метод возвращает список значений по заданному столбцу\"\"\"\n",
    "        return [self.board[x][y] for x in range(9)]\n",
    "    \n",
    "\n",
    "    def get_square(self, x:int, y:int) -> list:\n",
    "        \"\"\"Метод возвращает список значений в заданном квадрате\"\"\"\n",
    "        square_x = (x // 3) * 3\n",
    "        square_y = (y // 3) * 3\n",
    "        return [self.board[square_x + i][square_y + j] for i in range(3) for j in range(3)]\n",
    "\n",
    "\n",
    "    def print_board(self) -> str:\n",
    "        \"\"\"Метод возвращает строку с нарисованной судоку\"\"\"\n",
    "        horiz_border = '+-------+-------+-------+'\n",
    "        stroka = horiz_border + '\\n'\n",
    "        for i, row in enumerate(self.board):\n",
    "            row_str = '| ' + ' '.join(str(x) if x != 0 else '.' for x in row[:3]) + ' | ' \\\n",
    "                    + ' '.join(str(x) if x != 0 else '.' for x in row[3:6]) + ' | ' \\\n",
    "                    + ' '.join(str(x) if x != 0 else '.' for x in row[6:]) + ' |'\n",
    "            stroka += row_str + '\\n'\n",
    "            if (i + 1) % 3 == 0:\n",
    "                stroka += horiz_border + '\\n'\n",
    "        return stroka\n",
    "\n",
    "\n",
    "    def save_board(self, filename:str) -> None:\n",
    "        \"\"\"Запись судоку в файл\"\"\"\n",
    "        with open(filename, 'w') as f:\n",
    "            f.write(self.print_board())\n",
    "            "
   ]
  },
  {
   "cell_type": "code",
   "execution_count": 17,
   "metadata": {},
   "outputs": [
    {
     "name": "stdout",
     "output_type": "stream",
     "text": [
      "+-------+-------+-------+\n",
      "| . 6 . | 1 5 7 | 3 . 8 |\n",
      "| . 2 . | 8 . 9 | 5 . 7 |\n",
      "| 1 8 . | . 4 . | 6 9 . |\n",
      "+-------+-------+-------+\n",
      "| . 9 8 | . . 1 | . . 3 |\n",
      "| . . . | 2 . . | . 1 . |\n",
      "| . 7 5 | 9 8 3 | . 6 . |\n",
      "+-------+-------+-------+\n",
      "| 9 5 . | 4 . 6 | 2 8 . |\n",
      "| 6 . . | 5 3 . | 7 . 9 |\n",
      "| . . . | . . . | 4 . . |\n",
      "+-------+-------+-------+\n",
      "\n"
     ]
    }
   ],
   "source": [
    "board = Sudoku(\"easy\")\n",
    "print(board.print_board())\n",
    "board.save_board(\"sudoku_easy.txt\")"
   ]
  },
  {
   "cell_type": "code",
   "execution_count": 18,
   "metadata": {},
   "outputs": [
    {
     "name": "stdout",
     "output_type": "stream",
     "text": [
      "+-------+-------+-------+\n",
      "| . . . | 4 . 9 | 5 7 . |\n",
      "| . 2 . | . . 6 | 4 . . |\n",
      "| 7 . . | . . . | . 1 . |\n",
      "+-------+-------+-------+\n",
      "| . 1 . | . . . | . . . |\n",
      "| . . . | . . . | . . . |\n",
      "| . . 3 | . . 7 | . 4 1 |\n",
      "+-------+-------+-------+\n",
      "| 8 . . | . . 5 | . 2 7 |\n",
      "| . 3 . | . . . | . 5 . |\n",
      "| . . . | . . . | . . . |\n",
      "+-------+-------+-------+\n",
      "\n"
     ]
    }
   ],
   "source": [
    "board = Sudoku(\"hard\")\n",
    "print(board.print_board())\n",
    "board.save_board(\"sudoku_hard.txt\")"
   ]
  }
 ],
 "metadata": {
  "kernelspec": {
   "display_name": "Python 3",
   "language": "python",
   "name": "python3"
  },
  "language_info": {
   "codemirror_mode": {
    "name": "ipython",
    "version": 3
   },
   "file_extension": ".py",
   "mimetype": "text/x-python",
   "name": "python",
   "nbconvert_exporter": "python",
   "pygments_lexer": "ipython3",
   "version": "3.11.2"
  },
  "orig_nbformat": 4
 },
 "nbformat": 4,
 "nbformat_minor": 2
}
