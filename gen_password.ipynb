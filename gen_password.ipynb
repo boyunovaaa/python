{
 "cells": [
  {
   "attachments": {},
   "cell_type": "markdown",
   "metadata": {},
   "source": [
    "Функция, которая генерирует список паролей в зависимости от входящих параметров:\n",
    "- количество паролей\n",
    "- количество символов в пароле\n",
    "- в пароле использовать цифры\n",
    "- в пароле использовать буквы маленькие\n",
    "- в пароле использовать буквы большие\n",
    "- в пароле использовать спец символы\n",
    "- в пароле использовать символы переданные через параметр\n"
   ]
  },
  {
   "cell_type": "code",
   "execution_count": 7,
   "metadata": {},
   "outputs": [
    {
     "name": "stdout",
     "output_type": "stream",
     "text": [
      "['ksnsEfcCvw', 'EnjZBLhSys', 'qeaRCLqqvb', 'eKeCXXAofo', 'kTnmnrAdnd']\n",
      "['2tZNw', 'hSIPk']\n",
      "['06#*_p5', 'q96$j05', '=o635fh']\n",
      "[\"bGu@#]'sf]tb\"]\n"
     ]
    }
   ],
   "source": [
    "import random\n",
    "import string\n",
    "\n",
    "def gen_password(number:int, length:int, numbers:bool=True, small_letters:bool=True, big_letters:bool=True, special_symbols:bool=False, params:str='') -> list:\n",
    "    \n",
    "    \"\"\"Функция, генерирующая список паролей в зависимости от входящих параметров.\n",
    "    number - количество паролей;\n",
    "    length - количество символов в паролях;\n",
    "    numbers - использовать ли в пароле цифры;\n",
    "    small_letters - использовать ли маленькие буквы;\n",
    "    big_letters - использовать ли большие буквы;\n",
    "    special_symbols - использовать ли специальные символы;\n",
    "    params - использовать символы переданные через параметр.\n",
    "    \"\"\"\n",
    "\n",
    "    assert isinstance(number, int) and number > 0, \"number должен быть положительным целым числом\"\n",
    "    assert isinstance(length, int) and length > 0, \"length должен быть положительным целым числом\"\n",
    "    assert all(isinstance(arg, bool) for arg in [numbers, small_letters, big_letters, special_symbols]), \\\n",
    "        \"Булевы аргументы должны быть типа bool\"\n",
    "    assert isinstance(params, str), \"params должен быть строкой\"\n",
    "    \n",
    "    passwords = []\n",
    "    chars = ''\n",
    "\n",
    "    if numbers:\n",
    "        chars += string.digits\n",
    "    if small_letters:\n",
    "        chars += string.ascii_lowercase\n",
    "    if big_letters:\n",
    "        chars += string.ascii_uppercase\n",
    "    if special_symbols:\n",
    "        chars += string.punctuation\n",
    "    if params:\n",
    "        chars += params\n",
    "    \n",
    "    if not chars:\n",
    "        raise ValueError(\"Не выбран ни один набор символов для генерации пароля.\")\n",
    "\n",
    "    def generate_single_password(length: int, chars: str, params: str) -> str:\n",
    "        \"\"\"Генерирует один пароль.\"\"\"\n",
    "\n",
    "        # Гарантированно включаем все символы из params\n",
    "        password_chars = list(params)\n",
    "        remaining_length = length - len(params)\n",
    "\n",
    "        # Дополняем пароль случайными символами из доступного набора\n",
    "        if remaining_length > 0:\n",
    "            password_chars.extend(random.choices(chars, k=remaining_length))\n",
    "\n",
    "        random.shuffle(password_chars)\n",
    "        return ''.join(password_chars)\n",
    "\n",
    "\n",
    "    passwords = [generate_single_password(length, chars, params) for _ in range(number)]\n",
    "\n",
    "    return passwords\n",
    "\n",
    "\n",
    "print(gen_password(5, 10, numbers=False))\n",
    "print(gen_password(2, 5))\n",
    "print(gen_password(3, 7, special_symbols=True, params='56'))\n",
    "print(gen_password(1, 12, numbers=True, small_letters=True, big_letters=True, special_symbols=True, params='@#'))"
   ]
  }
 ],
 "metadata": {
  "kernelspec": {
   "display_name": "Python 3",
   "language": "python",
   "name": "python3"
  },
  "language_info": {
   "codemirror_mode": {
    "name": "ipython",
    "version": 3
   },
   "file_extension": ".py",
   "mimetype": "text/x-python",
   "name": "python",
   "nbconvert_exporter": "python",
   "pygments_lexer": "ipython3",
   "version": "3.11.2"
  },
  "orig_nbformat": 4
 },
 "nbformat": 4,
 "nbformat_minor": 2
}
