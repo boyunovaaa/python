{
 "cells": [
  {
   "attachments": {},
   "cell_type": "markdown",
   "metadata": {},
   "source": [
    "Класс, который содержит функции для шифрования и расшифрования несколькими алгоритмами обычного текста.\n",
    "  - tools_text_encoder.py - содержит класс с функциями;\n",
    "  - tools_text_encoder.ipynb - содержит демонстрационные примеры всех возможностей этого класса.\n",
    "- Методы шифрования:\n",
    "  - ROT13;\n",
    "  - Шифр Бэкона.\n"
   ]
  },
  {
   "cell_type": "code",
   "execution_count": null,
   "metadata": {},
   "outputs": [
    {
     "name": "stdout",
     "output_type": "stream",
     "text": [
      "djregl\n",
      "qwerty\n",
      "baaaababbaaabaabaaabbaabbbbaaa\n",
      "qwerty\n"
     ]
    }
   ],
   "source": [
    "from tools_text_encoder import Shifr\n",
    "\n",
    "print(Shifr.shifr_text_ROT('qwerty'))\n",
    "print(Shifr.shifr_text_ROT('djregl'))\n",
    "print(Shifr.shifr_text_bekon('qwerty'))\n",
    "print(Shifr.deshifr_text_bekon('baaaababbaaabaabaaabbaabbbbaaa'))\n",
    "#Shifr.shifr_file_ROT('temp/temp_TXT.txt', 'temp/temp_TXT_2.txt')\n",
    "#Shifr.shifr_file_ROT('temp/temp_TXT_2.txt', 'temp/temp_TXT.txt')\n",
    "Shifr.shifr_file_bekon('temp/temp_TXT.txt', 'temp/temp_TXT_2.txt')\n",
    "# Shifr.deshifr_file_bekon('temp/temp_TXT_2.txt', 'temp/temp_TXT.txt')"
   ]
  }
 ],
 "metadata": {
  "kernelspec": {
   "display_name": "Python 3",
   "language": "python",
   "name": "python3"
  },
  "language_info": {
   "codemirror_mode": {
    "name": "ipython",
    "version": 3
   },
   "file_extension": ".py",
   "mimetype": "text/x-python",
   "name": "python",
   "nbconvert_exporter": "python",
   "pygments_lexer": "ipython3",
   "version": "3.11.2"
  },
  "orig_nbformat": 4
 },
 "nbformat": 4,
 "nbformat_minor": 2
}
